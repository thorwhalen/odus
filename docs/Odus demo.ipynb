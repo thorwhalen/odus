{
 "cells": [
  {
   "cell_type": "markdown",
   "metadata": {
    "toc": true
   },
   "source": [
    "<h1>Table of Contents<span class=\"tocSkip\"></span></h1>\n",
    "<div class=\"toc\"><ul class=\"toc-item\"><li><span><a href=\"#Introduction\" data-toc-modified-id=\"Introduction-1\"><span class=\"toc-item-num\">1&nbsp;&nbsp;</span>Introduction</a></span></li><li><span><a href=\"#Installation\" data-toc-modified-id=\"Installation-2\"><span class=\"toc-item-num\">2&nbsp;&nbsp;</span>Installation</a></span></li><li><span><a href=\"#Getting-some-resources\" data-toc-modified-id=\"Getting-some-resources-3\"><span class=\"toc-item-num\">3&nbsp;&nbsp;</span>Getting some resources</a></span></li><li><span><a href=\"#Poking-around\" data-toc-modified-id=\"Poking-around-4\"><span class=\"toc-item-num\">4&nbsp;&nbsp;</span>Poking around</a></span><ul class=\"toc-item\"><li><span><a href=\"#df_store\" data-toc-modified-id=\"df_store-4.1\"><span class=\"toc-item-num\">4.1&nbsp;&nbsp;</span>df_store</a></span></li><li><span><a href=\"#Viewing-trajectories\" data-toc-modified-id=\"Viewing-trajectories-4.2\"><span class=\"toc-item-num\">4.2&nbsp;&nbsp;</span>Viewing trajectories</a></span><ul class=\"toc-item\"><li><span><a href=\"#Viewing-a-single-trajectory\" data-toc-modified-id=\"Viewing-a-single-trajectory-4.2.1\"><span class=\"toc-item-num\">4.2.1&nbsp;&nbsp;</span>Viewing a single trajectory</a></span></li><li><span><a href=\"#Flip-over-all-(or-some)-trajectories\" data-toc-modified-id=\"Flip-over-all-(or-some)-trajectories-4.2.2\"><span class=\"toc-item-num\">4.2.2&nbsp;&nbsp;</span>Flip over all (or some) trajectories</a></span></li></ul></li><li><span><a href=\"#Making-a-pdf-of-trajectories\" data-toc-modified-id=\"Making-a-pdf-of-trajectories-4.3\"><span class=\"toc-item-num\">4.3&nbsp;&nbsp;</span>Making a pdf of trajectories</a></span></li><li><span><a href=\"#Demo-s-and-v\" data-toc-modified-id=\"Demo-s-and-v-4.4\"><span class=\"toc-item-num\">4.4&nbsp;&nbsp;</span>Demo s and v</a></span></li><li><span><a href=\"#cstore\" data-toc-modified-id=\"cstore-4.5\"><span class=\"toc-item-num\">4.5&nbsp;&nbsp;</span>cstore</a></span></li><li><span><a href=\"#pstore\" data-toc-modified-id=\"pstore-4.6\"><span class=\"toc-item-num\">4.6&nbsp;&nbsp;</span>pstore</a></span></li><li><span><a href=\"#Scrap-place\" data-toc-modified-id=\"Scrap-place-4.7\"><span class=\"toc-item-num\">4.7&nbsp;&nbsp;</span>Scrap place</a></span></li></ul></li><li><span><a href=\"#Potential-Calculus-Experimentations\" data-toc-modified-id=\"Potential-Calculus-Experimentations-5\"><span class=\"toc-item-num\">5&nbsp;&nbsp;</span>Potential Calculus Experimentations</a></span></li><li><span><a href=\"#Extra-scrap\" data-toc-modified-id=\"Extra-scrap-6\"><span class=\"toc-item-num\">6&nbsp;&nbsp;</span>Extra scrap</a></span></li></ul></div>"
   ]
  },
  {
   "cell_type": "code",
   "execution_count": 1,
   "metadata": {
    "ExecuteTime": {
     "end_time": "2020-07-05T21:43:01.058888Z",
     "start_time": "2020-07-05T21:43:01.046343Z"
    }
   },
   "outputs": [],
   "source": [
    "# %load_ext autoreload\n",
    "# %autoreload 2"
   ]
  },
  {
   "cell_type": "markdown",
   "metadata": {
    "ExecuteTime": {
     "end_time": "2020-07-24T14:54:52.428209Z",
     "start_time": "2020-07-24T14:54:52.402656Z"
    }
   },
   "source": [
    "# Introduction\n",
    "\n",
    "ODUS (for Older Drug User Study) contains data and tools to study the drug use of older drug users.\n",
    "\n",
    "Essentially, there are these are tools:\n",
    "* To get prepared data on the 119 \"trajectories\" describing 31 variables (drug use, social, etc.) over time of 119 different respondents.\n",
    "* To vizualize these trajectories in various ways\n",
    "* To create pdfs of any selection of these trajectories and variables\n",
    "* To make count tables for any combinations of the variables: Essential step of any Markovian or Bayesian analysis.\n",
    "* To make probability (joint or conditional) tables from any combination of the variables\n",
    "* To operate on these count and probability tables, thus enabling inference operations\n"
   ]
  },
  {
   "cell_type": "markdown",
   "metadata": {},
   "source": [
    "# Installation"
   ]
  },
  {
   "cell_type": "markdown",
   "metadata": {},
   "source": [
    "You need to have python 3.7+ to run this notebook.\n",
    "\n",
    "And you'll need to have `odus`, which you get by doing\n",
    "\n",
    "```\n",
    "pip install odus\n",
    "```\n",
    "\n",
    "(And if you don't have pip then, well... how to put it... ha ha ha!)"
   ]
  },
  {
   "cell_type": "markdown",
   "metadata": {},
   "source": [
    "But if you're the type, you can also just get the source from `https://github.com/thorwhalen/odus`. \n",
    "\n",
    "Oh, and pull requests etc. are welcome!\n",
    "\n",
    "Stars, likes, references, and coffee also welcome.\n",
    "\n",
    "And if you want to donate: Donate to a charity that will help the people understand and make policies surrounding the use of substances.\n",
    "\n",
    "A simple flowchart about the architecture:"
   ]
  },
  {
   "cell_type": "markdown",
   "metadata": {},
   "source": [
    "<img src=\"odus_store.png\" width=800 height=800>"
   ]
  },
  {
   "cell_type": "markdown",
   "metadata": {},
   "source": [
    "# Getting some resources"
   ]
  },
  {
   "cell_type": "code",
   "execution_count": 1,
   "metadata": {
    "ExecuteTime": {
     "end_time": "2020-07-24T14:14:22.255279Z",
     "start_time": "2020-07-24T14:14:20.551873Z"
    }
   },
   "outputs": [],
   "source": [
    "from matplotlib.pylab import *\n",
    "from numpy import *\n",
    "import seaborn as sns\n",
    "\n",
    "import os\n",
    "from py2store.stores.local_store import RelativePathFormatStore\n",
    "from py2store.mixins import ReadOnlyMixin\n",
    "from py2store.base import Store\n",
    "\n",
    "\n",
    "from io import BytesIO\n",
    "from spyn.ppi.pot import Pot, ProbPot\n",
    "from collections import UserDict, Counter\n",
    "import numpy as np\n",
    "import pandas as pd\n",
    "\n",
    "from ut.ml.feature_extraction.sequential_var_sets import PVar, VarSet, DfData, VarSetFactory\n",
    "from IPython.display import Image\n",
    "\n",
    "from odus.analysis_utils import *\n",
    "\n",
    "from odus.dacc import DfStore, counts_of_kps, Dacc, VarSetCountsStore, \\\n",
    "    mk_pvar_struct, PotStore, _commun_columns_of_dfs, Struct, mk_pvar_str_struct, VarStr\n",
    "\n",
    "from odus.plot_utils import plot_life_course"
   ]
  },
  {
   "cell_type": "code",
   "execution_count": 2,
   "metadata": {
    "ExecuteTime": {
     "end_time": "2020-07-24T14:14:22.838500Z",
     "start_time": "2020-07-24T14:14:22.815472Z"
    }
   },
   "outputs": [
    {
     "data": {
      "text/plain": [
       "'/D/Dropbox/dev/p3/proj/odus/odus/data'"
      ]
     },
     "execution_count": 2,
     "metadata": {},
     "output_type": "execute_result"
    }
   ],
   "source": [
    "from odus import data_dir, data_path_of\n",
    "survey_dir = data_dir\n",
    "data_dir"
   ]
  },
  {
   "cell_type": "code",
   "execution_count": 3,
   "metadata": {
    "ExecuteTime": {
     "end_time": "2020-07-24T14:14:25.697654Z",
     "start_time": "2020-07-24T14:14:23.494866Z"
    }
   },
   "outputs": [],
   "source": [
    "df_store = DfStore(data_dir + '/{}.xlsx')\n",
    "len(df_store)\n",
    "cstore = VarSetCountsStore(df_store)\n",
    "v = mk_pvar_struct(df_store, only_for_cols_in_all_dfs=True)\n",
    "s = mk_pvar_str_struct(v)\n",
    "f, df = cstore.df_store.head()\n",
    "pstore = PotStore(df_store)"
   ]
  },
  {
   "cell_type": "markdown",
   "metadata": {},
   "source": [
    "# Poking around"
   ]
  },
  {
   "cell_type": "markdown",
   "metadata": {},
   "source": [
    "## df_store"
   ]
  },
  {
   "cell_type": "markdown",
   "metadata": {},
   "source": [
    "A df_store is a key-value store where the key is the xls file and the value is the prepared dataframe"
   ]
  },
  {
   "cell_type": "code",
   "execution_count": 4,
   "metadata": {
    "ExecuteTime": {
     "end_time": "2020-07-24T14:14:28.919545Z",
     "start_time": "2020-07-24T14:14:28.895064Z"
    }
   },
   "outputs": [
    {
     "data": {
      "text/plain": [
       "119"
      ]
     },
     "execution_count": 4,
     "metadata": {},
     "output_type": "execute_result"
    }
   ],
   "source": [
    "len(df_store)"
   ]
  },
  {
   "cell_type": "code",
   "execution_count": 5,
   "metadata": {
    "ExecuteTime": {
     "end_time": "2020-07-24T14:14:29.773213Z",
     "start_time": "2020-07-24T14:14:29.733319Z"
    }
   },
   "outputs": [
    {
     "data": {
      "text/html": [
       "<div>\n",
       "<style scoped>\n",
       "    .dataframe tbody tr th:only-of-type {\n",
       "        vertical-align: middle;\n",
       "    }\n",
       "\n",
       "    .dataframe tbody tr th {\n",
       "        vertical-align: top;\n",
       "    }\n",
       "\n",
       "    .dataframe thead th {\n",
       "        text-align: right;\n",
       "    }\n",
       "</style>\n",
       "<table border=\"1\" class=\"dataframe\">\n",
       "  <thead>\n",
       "    <tr style=\"text-align: right;\">\n",
       "      <th>category</th>\n",
       "      <th>RURAL</th>\n",
       "      <th>SUBURBAN</th>\n",
       "      <th>URBAN/CITY</th>\n",
       "      <th>HOMELESS</th>\n",
       "      <th>INCARCERATION</th>\n",
       "      <th>WORK</th>\n",
       "      <th>SON/DAUGHTER</th>\n",
       "      <th>SIBLING</th>\n",
       "      <th>FATHER/MOTHER</th>\n",
       "      <th>SPOUSE</th>\n",
       "      <th>...</th>\n",
       "      <th>METHAMPHETAMINE</th>\n",
       "      <th>AS PRESCRIBED OPIOID</th>\n",
       "      <th>NOT AS PRESCRIBED OPIOID</th>\n",
       "      <th>HEROIN</th>\n",
       "      <th>OTHER OPIOID</th>\n",
       "      <th>INJECTED</th>\n",
       "      <th>IN TREATMENT</th>\n",
       "      <th>Selects States below</th>\n",
       "      <th>Georgia</th>\n",
       "      <th>Pennsylvania</th>\n",
       "    </tr>\n",
       "    <tr>\n",
       "      <th>age</th>\n",
       "      <th></th>\n",
       "      <th></th>\n",
       "      <th></th>\n",
       "      <th></th>\n",
       "      <th></th>\n",
       "      <th></th>\n",
       "      <th></th>\n",
       "      <th></th>\n",
       "      <th></th>\n",
       "      <th></th>\n",
       "      <th></th>\n",
       "      <th></th>\n",
       "      <th></th>\n",
       "      <th></th>\n",
       "      <th></th>\n",
       "      <th></th>\n",
       "      <th></th>\n",
       "      <th></th>\n",
       "      <th></th>\n",
       "      <th></th>\n",
       "      <th></th>\n",
       "    </tr>\n",
       "  </thead>\n",
       "  <tbody>\n",
       "    <tr>\n",
       "      <th>11</th>\n",
       "      <td>0</td>\n",
       "      <td>1</td>\n",
       "      <td>0</td>\n",
       "      <td>0</td>\n",
       "      <td>0</td>\n",
       "      <td>0</td>\n",
       "      <td>1</td>\n",
       "      <td>1</td>\n",
       "      <td>0</td>\n",
       "      <td>0</td>\n",
       "      <td>...</td>\n",
       "      <td>0</td>\n",
       "      <td>0</td>\n",
       "      <td>0</td>\n",
       "      <td>0</td>\n",
       "      <td>0</td>\n",
       "      <td>0</td>\n",
       "      <td>0</td>\n",
       "      <td>1</td>\n",
       "      <td>1</td>\n",
       "      <td>0</td>\n",
       "    </tr>\n",
       "    <tr>\n",
       "      <th>12</th>\n",
       "      <td>0</td>\n",
       "      <td>1</td>\n",
       "      <td>0</td>\n",
       "      <td>0</td>\n",
       "      <td>0</td>\n",
       "      <td>0</td>\n",
       "      <td>1</td>\n",
       "      <td>1</td>\n",
       "      <td>0</td>\n",
       "      <td>0</td>\n",
       "      <td>...</td>\n",
       "      <td>0</td>\n",
       "      <td>1</td>\n",
       "      <td>0</td>\n",
       "      <td>0</td>\n",
       "      <td>0</td>\n",
       "      <td>0</td>\n",
       "      <td>0</td>\n",
       "      <td>1</td>\n",
       "      <td>1</td>\n",
       "      <td>0</td>\n",
       "    </tr>\n",
       "    <tr>\n",
       "      <th>13</th>\n",
       "      <td>0</td>\n",
       "      <td>1</td>\n",
       "      <td>0</td>\n",
       "      <td>0</td>\n",
       "      <td>0</td>\n",
       "      <td>0</td>\n",
       "      <td>1</td>\n",
       "      <td>1</td>\n",
       "      <td>0</td>\n",
       "      <td>0</td>\n",
       "      <td>...</td>\n",
       "      <td>0</td>\n",
       "      <td>0</td>\n",
       "      <td>0</td>\n",
       "      <td>0</td>\n",
       "      <td>0</td>\n",
       "      <td>0</td>\n",
       "      <td>0</td>\n",
       "      <td>1</td>\n",
       "      <td>1</td>\n",
       "      <td>0</td>\n",
       "    </tr>\n",
       "  </tbody>\n",
       "</table>\n",
       "<p>3 rows × 31 columns</p>\n",
       "</div>"
      ],
      "text/plain": [
       "category  RURAL  SUBURBAN  URBAN/CITY  HOMELESS  INCARCERATION  WORK  \\\n",
       "age                                                                    \n",
       "11            0         1           0         0              0     0   \n",
       "12            0         1           0         0              0     0   \n",
       "13            0         1           0         0              0     0   \n",
       "\n",
       "category  SON/DAUGHTER  SIBLING  FATHER/MOTHER  SPOUSE  ...  METHAMPHETAMINE  \\\n",
       "age                                                     ...                    \n",
       "11                   1        1              0       0  ...                0   \n",
       "12                   1        1              0       0  ...                0   \n",
       "13                   1        1              0       0  ...                0   \n",
       "\n",
       "category  AS PRESCRIBED OPIOID  NOT AS PRESCRIBED OPIOID  HEROIN  \\\n",
       "age                                                                \n",
       "11                           0                         0       0   \n",
       "12                           1                         0       0   \n",
       "13                           0                         0       0   \n",
       "\n",
       "category  OTHER OPIOID  INJECTED  IN TREATMENT  Selects States below  Georgia  \\\n",
       "age                                                                             \n",
       "11                   0         0             0                     1        1   \n",
       "12                   0         0             0                     1        1   \n",
       "13                   0         0             0                     1        1   \n",
       "\n",
       "category  Pennsylvania  \n",
       "age                     \n",
       "11                   0  \n",
       "12                   0  \n",
       "13                   0  \n",
       "\n",
       "[3 rows x 31 columns]"
      ]
     },
     "execution_count": 5,
     "metadata": {},
     "output_type": "execute_result"
    }
   ],
   "source": [
    "it = iter(df_store.values())\n",
    "for i in range(5):  # skip five first\n",
    "    _ = next(it)\n",
    "df = next(it)  # get the one I want\n",
    "df.head(3)"
   ]
  },
  {
   "cell_type": "code",
   "execution_count": 6,
   "metadata": {
    "ExecuteTime": {
     "end_time": "2020-07-24T14:14:30.896562Z",
     "start_time": "2020-07-24T14:14:30.874729Z"
    }
   },
   "outputs": [
    {
     "name": "stdout",
     "output_type": "stream",
     "text": [
      "['RURAL' 'SUBURBAN' 'URBAN/CITY' 'HOMELESS' 'INCARCERATION' 'WORK'\n",
      " 'SON/DAUGHTER' 'SIBLING' 'FATHER/MOTHER' 'SPOUSE'\n",
      " 'OTHER (WHO?, FILL IN BRACKETS HERE)' 'FRIEND USER' 'FRIEND NON USER'\n",
      " 'MENTAL ILLNESS' 'PHYSICAL ILLNESS' 'LOSS OF LOVED ONE' 'TOBACCO'\n",
      " 'MARIJUANA' 'ALCOHOL' 'HAL/LSD/XTC/CLUBDRUG' 'COCAINE/CRACK'\n",
      " 'METHAMPHETAMINE' 'AS PRESCRIBED OPIOID' 'NOT AS PRESCRIBED OPIOID'\n",
      " 'HEROIN' 'OTHER OPIOID' 'INJECTED' 'IN TREATMENT' 'Selects States below'\n",
      " 'Georgia' 'Pennsylvania']\n"
     ]
    }
   ],
   "source": [
    "print(df.columns.values)"
   ]
  },
  {
   "cell_type": "code",
   "execution_count": 7,
   "metadata": {
    "ExecuteTime": {
     "end_time": "2020-07-24T14:14:31.569564Z",
     "start_time": "2020-07-24T14:14:31.543503Z"
    }
   },
   "outputs": [
    {
     "data": {
      "text/html": [
       "<div>\n",
       "<style scoped>\n",
       "    .dataframe tbody tr th:only-of-type {\n",
       "        vertical-align: middle;\n",
       "    }\n",
       "\n",
       "    .dataframe tbody tr th {\n",
       "        vertical-align: top;\n",
       "    }\n",
       "\n",
       "    .dataframe thead th {\n",
       "        text-align: right;\n",
       "    }\n",
       "</style>\n",
       "<table border=\"1\" class=\"dataframe\">\n",
       "  <thead>\n",
       "    <tr style=\"text-align: right;\">\n",
       "      <th>category</th>\n",
       "      <th>ALCOHOL</th>\n",
       "      <th>TOBACCO</th>\n",
       "    </tr>\n",
       "    <tr>\n",
       "      <th>age</th>\n",
       "      <th></th>\n",
       "      <th></th>\n",
       "    </tr>\n",
       "  </thead>\n",
       "  <tbody>\n",
       "    <tr>\n",
       "      <th>11</th>\n",
       "      <td>0</td>\n",
       "      <td>0</td>\n",
       "    </tr>\n",
       "    <tr>\n",
       "      <th>12</th>\n",
       "      <td>0</td>\n",
       "      <td>0</td>\n",
       "    </tr>\n",
       "    <tr>\n",
       "      <th>13</th>\n",
       "      <td>0</td>\n",
       "      <td>0</td>\n",
       "    </tr>\n",
       "  </tbody>\n",
       "</table>\n",
       "</div>"
      ],
      "text/plain": [
       "category  ALCOHOL  TOBACCO\n",
       "age                       \n",
       "11              0        0\n",
       "12              0        0\n",
       "13              0        0"
      ]
     },
     "execution_count": 7,
     "metadata": {},
     "output_type": "execute_result"
    }
   ],
   "source": [
    "t = df[['ALCOHOL', 'TOBACCO']]\n",
    "t.head(3)"
   ]
  },
  {
   "cell_type": "code",
   "execution_count": 8,
   "metadata": {
    "ExecuteTime": {
     "end_time": "2020-07-24T14:14:32.167265Z",
     "start_time": "2020-07-24T14:14:32.141900Z"
    }
   },
   "outputs": [
    {
     "data": {
      "text/plain": [
       "Counter({(0, 0): 6, (1, 0): 4, (1, 1): 9, (0, 1): 2})"
      ]
     },
     "execution_count": 8,
     "metadata": {},
     "output_type": "execute_result"
    }
   ],
   "source": [
    "c = Counter()\n",
    "for i, r in t.iterrows():\n",
    "    c.update([tuple(r.to_list())])\n",
    "c"
   ]
  },
  {
   "cell_type": "code",
   "execution_count": 9,
   "metadata": {
    "ExecuteTime": {
     "end_time": "2020-07-24T14:14:32.632214Z",
     "start_time": "2020-07-24T14:14:32.610169Z"
    }
   },
   "outputs": [],
   "source": [
    "def count_tuples(dataframe):\n",
    "    c = Counter()\n",
    "    for i, r in dataframe.iterrows():\n",
    "        c.update([tuple(r.to_list())])\n",
    "    return c"
   ]
  },
  {
   "cell_type": "code",
   "execution_count": 10,
   "metadata": {
    "ExecuteTime": {
     "end_time": "2020-07-24T14:14:33.292822Z",
     "start_time": "2020-07-24T14:14:33.049103Z"
    }
   },
   "outputs": [
    {
     "data": {
      "text/plain": [
       "Counter({(0, 1): 903, (1, 1): 1343, (0, 0): 240, (1, 0): 179})"
      ]
     },
     "execution_count": 10,
     "metadata": {},
     "output_type": "execute_result"
    }
   ],
   "source": [
    "fields = ['ALCOHOL', 'TOBACCO']\n",
    "# do it for every one\n",
    "c = Counter()\n",
    "for df in df_store.values():\n",
    "    c.update(count_tuples(df[fields]))\n",
    "c"
   ]
  },
  {
   "cell_type": "code",
   "execution_count": 11,
   "metadata": {
    "ExecuteTime": {
     "end_time": "2020-07-24T14:14:34.142107Z",
     "start_time": "2020-07-24T14:14:34.117092Z"
    }
   },
   "outputs": [
    {
     "data": {
      "text/plain": [
       "0  1     903\n",
       "1  1    1343\n",
       "0  0     240\n",
       "1  0     179\n",
       "dtype: int64"
      ]
     },
     "execution_count": 11,
     "metadata": {},
     "output_type": "execute_result"
    }
   ],
   "source": [
    "pd.Series(c)"
   ]
  },
  {
   "cell_type": "code",
   "execution_count": 12,
   "metadata": {
    "ExecuteTime": {
     "end_time": "2020-07-24T14:14:34.830919Z",
     "start_time": "2020-07-24T14:14:34.809957Z"
    }
   },
   "outputs": [],
   "source": [
    "# Powerful! You can use that with several pairs and get some nice probabilities. Look up Naive Bayes."
   ]
  },
  {
   "cell_type": "markdown",
   "metadata": {},
   "source": [
    "## Viewing trajectories"
   ]
  },
  {
   "cell_type": "code",
   "execution_count": 13,
   "metadata": {
    "ExecuteTime": {
     "end_time": "2020-07-24T14:14:35.766851Z",
     "start_time": "2020-07-24T14:14:35.745791Z"
    }
   },
   "outputs": [],
   "source": [
    "import itertools\n",
    "from functools import partial\n",
    "from odus.util import write_images\n",
    "from odus.plot_utils import plot_life, life_plots, write_trajectories_to_file\n",
    "\n",
    "ihead = lambda it: itertools.islice(it, 0, 5)"
   ]
  },
  {
   "cell_type": "markdown",
   "metadata": {},
   "source": [
    "### Viewing a single trajectory"
   ]
  },
  {
   "cell_type": "code",
   "execution_count": 14,
   "metadata": {
    "ExecuteTime": {
     "end_time": "2020-07-24T14:14:37.308316Z",
     "start_time": "2020-07-24T14:14:36.577854Z"
    }
   },
   "outputs": [
    {
     "name": "stdout",
     "output_type": "stream",
     "text": [
      "k: surveys/B24.xlsx\n"
     ]
    },
    {
     "data": {
      "image/png": "[encoded data removed]",
      "text/plain": [
       "<Figure size 473.143x596.571 with 1 Axes>"
      ]
     },
     "metadata": {
      "needs_background": "light"
     },
     "output_type": "display_data"
    }
   ],
   "source": [
    "k = next(iter(df_store))  # get the first key\n",
    "print(f\"k: {k}\")  # print it\n",
    "plot_life(df_store[k])  # plot the trajectory"
   ]
  },
  {
   "cell_type": "code",
   "execution_count": 15,
   "metadata": {
    "ExecuteTime": {
     "end_time": "2020-07-24T14:14:37.850567Z",
     "start_time": "2020-07-24T14:14:37.557278Z"
    }
   },
   "outputs": [
    {
     "data": {
      "image/png": "[encoded data removed]",
      "text/plain": [
       "<Figure size 473.143x41.1429 with 1 Axes>"
      ]
     },
     "metadata": {
      "needs_background": "light"
     },
     "output_type": "display_data"
    }
   ],
   "source": [
    "plot_life(df_store[k], fields=[s.in_treatment, s.injected])  # only want two fields"
   ]
  },
  {
   "cell_type": "markdown",
   "metadata": {},
   "source": [
    "### Flip over all (or some) trajectories"
   ]
  },
  {
   "cell_type": "code",
   "execution_count": 16,
   "metadata": {
    "ExecuteTime": {
     "end_time": "2020-07-24T14:14:39.239534Z",
     "start_time": "2020-07-24T14:14:39.217927Z"
    }
   },
   "outputs": [],
   "source": [
    "gen = life_plots(df_store)"
   ]
  },
  {
   "cell_type": "code",
   "execution_count": 17,
   "metadata": {
    "ExecuteTime": {
     "end_time": "2020-07-24T14:14:40.459475Z",
     "start_time": "2020-07-24T14:14:39.916695Z"
    }
   },
   "outputs": [
    {
     "data": {
      "text/plain": [
       "<matplotlib.axes._subplots.AxesSubplot at 0x12b21f070>"
      ]
     },
     "execution_count": 17,
     "metadata": {},
     "output_type": "execute_result"
    },
    {
     "data": {
      "image/png": "[encoded data removed]",
      "text/plain": [
       "<Figure size 473.143x596.571 with 1 Axes>"
      ]
     },
     "metadata": {
      "needs_background": "light"
     },
     "output_type": "display_data"
    }
   ],
   "source": [
    "next(gen)  # launch to get the next trajectory"
   ]
  },
  {
   "cell_type": "markdown",
   "metadata": {},
   "source": [
    "Get three trajectories, but only over two fields."
   ]
  },
  {
   "cell_type": "code",
   "execution_count": 18,
   "metadata": {
    "ExecuteTime": {
     "end_time": "2020-07-24T14:14:42.916591Z",
     "start_time": "2020-07-24T14:14:41.558166Z"
    }
   },
   "outputs": [
    {
     "data": {
      "image/png": "[encoded data removed]",
      "text/plain": [
       "<Figure size 473.143x82.2857 with 1 Axes>"
      ]
     },
     "metadata": {
      "needs_background": "light"
     },
     "output_type": "display_data"
    },
    {
     "data": {
      "image/png": "[encoded data removed]",
      "text/plain": [
       "<Figure size 822.857x82.2857 with 1 Axes>"
      ]
     },
     "metadata": {
      "needs_background": "light"
     },
     "output_type": "display_data"
    },
    {
     "data": {
      "image/png": "[encoded data removed]",
      "text/plain": [
       "<Figure size 514.286x82.2857 with 1 Axes>"
      ]
     },
     "metadata": {
      "needs_background": "light"
     },
     "output_type": "display_data"
    },
    {
     "data": {
      "image/png": "[encoded data removed]",
      "text/plain": [
       "<Figure size 493.714x82.2857 with 1 Axes>"
      ]
     },
     "metadata": {
      "needs_background": "light"
     },
     "output_type": "display_data"
    },
    {
     "data": {
      "image/png": "[encoded data removed]",
      "text/plain": [
       "<Figure size 1028.57x82.2857 with 1 Axes>"
      ]
     },
     "metadata": {
      "needs_background": "light"
     },
     "output_type": "display_data"
    },
    {
     "data": {
      "image/png": "[encoded data removed]",
      "text/plain": [
       "<Figure size 432x82.2857 with 1 Axes>"
      ]
     },
     "metadata": {
      "needs_background": "light"
     },
     "output_type": "display_data"
    },
    {
     "data": {
      "image/png": "[encoded data removed]",
      "text/plain": [
       "<Figure size 185.143x82.2857 with 1 Axes>"
      ]
     },
     "metadata": {
      "needs_background": "light"
     },
     "output_type": "display_data"
    },
    {
     "data": {
      "image/png": "[encoded data removed]",
      "text/plain": [
       "<Figure size 617.143x82.2857 with 1 Axes>"
      ]
     },
     "metadata": {
      "needs_background": "light"
     },
     "output_type": "display_data"
    },
    {
     "data": {
      "image/png": "[encoded data removed]",
      "text/plain": [
       "<Figure size 390.857x82.2857 with 1 Axes>"
      ]
     },
     "metadata": {
      "needs_background": "light"
     },
     "output_type": "display_data"
    },
    {
     "data": {
      "image/png": "[encoded data removed]",
      "text/plain": [
       "<Figure size 473.143x82.2857 with 1 Axes>"
      ]
     },
     "metadata": {
      "needs_background": "light"
     },
     "output_type": "display_data"
    }
   ],
   "source": [
    "# fields = [s.in_treatment, s.injected]\n",
    "fields = [s.physical_illness, s.as_prescribed_opioid, s.heroin, s.other_opioid]\n",
    "keys = list(df_store)[:10]\n",
    "# print(f\"keys={keys}\")\n",
    "axs = [x for x in life_plots(df_store, fields, keys=keys)];"
   ]
  },
  {
   "cell_type": "markdown",
   "metadata": {},
   "source": [
    "## Making a pdf of trajectories"
   ]
  },
  {
   "cell_type": "code",
   "execution_count": 26,
   "metadata": {
    "ExecuteTime": {
     "end_time": "2020-07-24T14:56:02.393992Z",
     "start_time": "2020-07-24T14:56:02.375311Z"
    }
   },
   "outputs": [],
   "source": [
    "write_trajectories_to_file(df_store, fields, keys, fp='three_respondents_two_fields.pdf');"
   ]
  },
  {
   "cell_type": "code",
   "execution_count": null,
   "metadata": {},
   "outputs": [],
   "source": [
    "write_trajectories_to_file(df_store, fp='all_respondents_all_fields.pdf');"
   ]
  },
  {
   "cell_type": "code",
   "execution_count": null,
   "metadata": {
    "ExecuteTime": {
     "end_time": "2019-11-17T22:52:20.603207Z",
     "start_time": "2019-11-17T22:52:13.568264Z"
    }
   },
   "outputs": [],
   "source": [
    " "
   ]
  },
  {
   "cell_type": "markdown",
   "metadata": {},
   "source": [
    "## Demo s and v"
   ]
  },
  {
   "cell_type": "code",
   "execution_count": 21,
   "metadata": {
    "ExecuteTime": {
     "end_time": "2020-05-12T19:10:59.199328Z",
     "start_time": "2020-05-12T19:10:59.175535Z"
    }
   },
   "outputs": [
    {
     "name": "stdout",
     "output_type": "stream",
     "text": [
      "['alcohol', 'as_prescribed_opioid', 'cocaine_crack', 'father_mother', 'hal_lsd_xtc_clubdrug', 'heroin', 'homeless', 'in_treatment', 'incarceration', 'injected', 'loss_of_loved_one', 'marijuana', 'mental_illness', 'methamphetamine', 'not_as_prescribed_opioid', 'other_opioid', 'physical_illness', 'rural', 'sibling', 'son_daughter', 'suburban', 'tobacco', 'urban_city', 'work']\n"
     ]
    }
   ],
   "source": [
    "print(list(filter(lambda x: not x.startswith('__'), dir(s))))"
   ]
  },
  {
   "cell_type": "code",
   "execution_count": 22,
   "metadata": {
    "ExecuteTime": {
     "end_time": "2020-05-12T19:10:59.920049Z",
     "start_time": "2020-05-12T19:10:59.897875Z"
    }
   },
   "outputs": [
    {
     "data": {
      "text/plain": [
       "'HEROIN'"
      ]
     },
     "execution_count": 22,
     "metadata": {},
     "output_type": "execute_result"
    }
   ],
   "source": [
    "s.heroin"
   ]
  },
  {
   "cell_type": "code",
   "execution_count": 23,
   "metadata": {
    "ExecuteTime": {
     "end_time": "2020-05-12T19:11:00.378838Z",
     "start_time": "2020-05-12T19:11:00.356812Z"
    }
   },
   "outputs": [
    {
     "data": {
      "text/plain": [
       "PVar('HEROIN', 0)"
      ]
     },
     "execution_count": 23,
     "metadata": {},
     "output_type": "execute_result"
    }
   ],
   "source": [
    "v.heroin"
   ]
  },
  {
   "cell_type": "code",
   "execution_count": 24,
   "metadata": {
    "ExecuteTime": {
     "end_time": "2020-05-12T19:11:00.843083Z",
     "start_time": "2020-05-12T19:11:00.818997Z"
    }
   },
   "outputs": [
    {
     "data": {
      "text/plain": [
       "PVar('HEROIN', -1)"
      ]
     },
     "execution_count": 24,
     "metadata": {},
     "output_type": "execute_result"
    }
   ],
   "source": [
    "v.heroin - 1"
   ]
  },
  {
   "cell_type": "markdown",
   "metadata": {},
   "source": [
    "## cstore"
   ]
  },
  {
   "cell_type": "code",
   "execution_count": 21,
   "metadata": {
    "ExecuteTime": {
     "end_time": "2020-07-05T21:45:08.449762Z",
     "start_time": "2020-07-05T21:45:08.208822Z"
    }
   },
   "outputs": [
    {
     "data": {
      "text/plain": [
       "Counter({(0, 0): 1026, (1, 0): 264, (0, 1): 1108, (1, 1): 148})"
      ]
     },
     "execution_count": 21,
     "metadata": {},
     "output_type": "execute_result"
    }
   ],
   "source": [
    "# cstore[v.alcohol, v.tobacco]\n",
    "cstore[v.as_prescribed_opioid-1, v.heroin]"
   ]
  },
  {
   "cell_type": "code",
   "execution_count": 22,
   "metadata": {
    "ExecuteTime": {
     "end_time": "2020-07-05T21:45:08.881802Z",
     "start_time": "2020-07-05T21:45:08.856231Z"
    }
   },
   "outputs": [
    {
     "data": {
      "text/plain": [
       "0  0    1026\n",
       "1  0     264\n",
       "0  1    1108\n",
       "1  1     148\n",
       "dtype: int64"
      ]
     },
     "execution_count": 22,
     "metadata": {},
     "output_type": "execute_result"
    }
   ],
   "source": [
    "pd.Series(cstore[v.as_prescribed_opioid-1, v.heroin])"
   ]
  },
  {
   "cell_type": "code",
   "execution_count": 23,
   "metadata": {
    "ExecuteTime": {
     "end_time": "2020-07-05T21:45:09.685759Z",
     "start_time": "2020-07-05T21:45:09.342235Z"
    }
   },
   "outputs": [
    {
     "data": {
      "text/plain": [
       "Counter({(0, 0, 1): 427,\n",
       "         (1, 0, 1): 656,\n",
       "         (1, 1, 1): 687,\n",
       "         (0, 0, 0): 189,\n",
       "         (0, 1, 1): 476,\n",
       "         (0, 1, 0): 51,\n",
       "         (1, 0, 0): 133,\n",
       "         (1, 1, 0): 46})"
      ]
     },
     "execution_count": 23,
     "metadata": {},
     "output_type": "execute_result"
    }
   ],
   "source": [
    "cstore[v.alcohol, v.tobacco, v.heroin]"
   ]
  },
  {
   "cell_type": "code",
   "execution_count": 24,
   "metadata": {
    "ExecuteTime": {
     "end_time": "2020-07-05T21:45:10.352917Z",
     "start_time": "2020-07-05T21:45:10.132097Z"
    }
   },
   "outputs": [
    {
     "data": {
      "text/plain": [
       "Counter({(0, 0): 994, (1, 1): 1375, (1, 0): 90, (0, 1): 87})"
      ]
     },
     "execution_count": 24,
     "metadata": {},
     "output_type": "execute_result"
    }
   ],
   "source": [
    "cstore[v.alcohol-1, v.alcohol]"
   ]
  },
  {
   "cell_type": "code",
   "execution_count": 25,
   "metadata": {
    "ExecuteTime": {
     "end_time": "2020-07-05T21:45:11.146465Z",
     "start_time": "2020-07-05T21:45:10.837916Z"
    }
   },
   "outputs": [
    {
     "data": {
      "text/plain": [
       "Counter({(0, 0, 1): 807,\n",
       "         (1, 1, 1): 1220,\n",
       "         (1, 0, 0): 26,\n",
       "         (0, 1, 1): 76,\n",
       "         (0, 0, 0): 187,\n",
       "         (1, 1, 0): 155,\n",
       "         (0, 1, 0): 11,\n",
       "         (1, 0, 1): 64})"
      ]
     },
     "execution_count": 25,
     "metadata": {},
     "output_type": "execute_result"
    }
   ],
   "source": [
    "cstore[v.alcohol-1, v.alcohol, v.tobacco]"
   ]
  },
  {
   "cell_type": "code",
   "execution_count": 45,
   "metadata": {
    "ExecuteTime": {
     "end_time": "2020-07-05T21:48:34.724556Z",
     "start_time": "2020-07-05T21:48:34.698614Z"
    }
   },
   "outputs": [
    {
     "data": {
      "text/plain": [
       "<pandas.core.indexing._LocIndexer at 0x130955db0>"
      ]
     },
     "execution_count": 45,
     "metadata": {},
     "output_type": "execute_result"
    }
   ],
   "source": [
    "t = pd.Series(cstore[v.alcohol-1, v.alcohol, v.tobacco])\n",
    "t.loc[t.index]"
   ]
  },
  {
   "cell_type": "markdown",
   "metadata": {},
   "source": [
    "## pstore"
   ]
  },
  {
   "cell_type": "code",
   "execution_count": 36,
   "metadata": {
    "ExecuteTime": {
     "end_time": "2020-05-13T21:41:35.931686Z",
     "start_time": "2020-05-13T21:41:35.488404Z"
    }
   },
   "outputs": [
    {
     "data": {
      "text/plain": [
       "                   pval\n",
       "ALCOHOL-1 ALCOHOL      \n",
       "0         0         994\n",
       "          1          87\n",
       "1         0          90\n",
       "          1        1375"
      ]
     },
     "execution_count": 36,
     "metadata": {},
     "output_type": "execute_result"
    }
   ],
   "source": [
    "t = pstore[s.alcohol-1, s.alcohol]\n",
    "t"
   ]
  },
  {
   "cell_type": "code",
   "execution_count": 38,
   "metadata": {
    "ExecuteTime": {
     "end_time": "2020-05-13T21:42:54.055834Z",
     "start_time": "2020-05-13T21:42:54.008361Z"
    }
   },
   "outputs": [
    {
     "data": {
      "text/html": [
       "<div>\n",
       "<style scoped>\n",
       "    .dataframe tbody tr th:only-of-type {\n",
       "        vertical-align: middle;\n",
       "    }\n",
       "\n",
       "    .dataframe tbody tr th {\n",
       "        vertical-align: top;\n",
       "    }\n",
       "\n",
       "    .dataframe thead th {\n",
       "        text-align: right;\n",
       "    }\n",
       "</style>\n",
       "<table border=\"1\" class=\"dataframe\">\n",
       "  <thead>\n",
       "    <tr style=\"text-align: right;\">\n",
       "      <th></th>\n",
       "      <th>ALCOHOL-1</th>\n",
       "      <th>ALCOHOL</th>\n",
       "      <th>pval</th>\n",
       "    </tr>\n",
       "  </thead>\n",
       "  <tbody>\n",
       "    <tr>\n",
       "      <th></th>\n",
       "      <td>0</td>\n",
       "      <td>0</td>\n",
       "      <td>994</td>\n",
       "    </tr>\n",
       "    <tr>\n",
       "      <th></th>\n",
       "      <td>0</td>\n",
       "      <td>1</td>\n",
       "      <td>87</td>\n",
       "    </tr>\n",
       "    <tr>\n",
       "      <th></th>\n",
       "      <td>1</td>\n",
       "      <td>0</td>\n",
       "      <td>90</td>\n",
       "    </tr>\n",
       "    <tr>\n",
       "      <th></th>\n",
       "      <td>1</td>\n",
       "      <td>1</td>\n",
       "      <td>1375</td>\n",
       "    </tr>\n",
       "  </tbody>\n",
       "</table>\n",
       "</div>"
      ],
      "text/plain": [
       "  ALCOHOL-1  ALCOHOL  pval\n",
       "          0        0   994\n",
       "          0        1    87\n",
       "          1        0    90\n",
       "          1        1  1375"
      ]
     },
     "execution_count": 38,
     "metadata": {},
     "output_type": "execute_result"
    }
   ],
   "source": [
    "t.tb"
   ]
  },
  {
   "cell_type": "code",
   "execution_count": 40,
   "metadata": {
    "ExecuteTime": {
     "end_time": "2020-05-13T21:44:01.301729Z",
     "start_time": "2020-05-13T21:44:01.209814Z"
    }
   },
   "outputs": [
    {
     "data": {
      "text/plain": [
       "                       pval\n",
       "ALCOHOL-1 ALCOHOL          \n",
       "0         0        0.390416\n",
       "          1        0.034171\n",
       "1         0        0.035350\n",
       "          1        0.540063"
      ]
     },
     "execution_count": 40,
     "metadata": {},
     "output_type": "execute_result"
    }
   ],
   "source": [
    "t / []"
   ]
  },
  {
   "cell_type": "code",
   "execution_count": 41,
   "metadata": {
    "ExecuteTime": {
     "end_time": "2020-05-13T21:44:37.716108Z",
     "start_time": "2020-05-13T21:44:37.670894Z"
    }
   },
   "outputs": [
    {
     "data": {
      "text/plain": [
       "           pval\n",
       "ALCOHOL-1      \n",
       "0          1081\n",
       "1          1465"
      ]
     },
     "execution_count": 41,
     "metadata": {},
     "output_type": "execute_result"
    }
   ],
   "source": [
    "t[s.alcohol-1]"
   ]
  },
  {
   "cell_type": "code",
   "execution_count": 32,
   "metadata": {
    "ExecuteTime": {
     "end_time": "2020-05-12T19:11:07.910543Z",
     "start_time": "2020-05-12T19:11:07.873808Z"
    }
   },
   "outputs": [
    {
     "data": {
      "text/plain": [
       "                       pval\n",
       "ALCOHOL-1 ALCOHOL          \n",
       "0         0        0.919519\n",
       "          1        0.080481\n",
       "1         0        0.061433\n",
       "          1        0.938567"
      ]
     },
     "execution_count": 32,
     "metadata": {},
     "output_type": "execute_result"
    }
   ],
   "source": [
    "t / t[s.alcohol-1]  # cond prob!"
   ]
  },
  {
   "cell_type": "code",
   "execution_count": 33,
   "metadata": {
    "ExecuteTime": {
     "end_time": "2020-05-12T19:11:08.631323Z",
     "start_time": "2020-05-12T19:11:08.388189Z"
    }
   },
   "outputs": [
    {
     "data": {
      "text/plain": [
       "                 pval\n",
       "ALCOHOL TOBACCO      \n",
       "0       0         240\n",
       "        1         903\n",
       "1       0         179\n",
       "        1        1343"
      ]
     },
     "execution_count": 33,
     "metadata": {},
     "output_type": "execute_result"
    }
   ],
   "source": [
    "tt = pstore[s.alcohol, s.tobacco]\n",
    "tt"
   ]
  },
  {
   "cell_type": "code",
   "execution_count": 34,
   "metadata": {
    "ExecuteTime": {
     "end_time": "2020-05-12T19:11:08.864816Z",
     "start_time": "2020-05-12T19:11:08.829365Z"
    }
   },
   "outputs": [
    {
     "data": {
      "text/plain": [
       "                     pval\n",
       "ALCOHOL TOBACCO          \n",
       "0       0        0.209974\n",
       "        1        0.790026\n",
       "1       0        0.117608\n",
       "        1        0.882392"
      ]
     },
     "execution_count": 34,
     "metadata": {},
     "output_type": "execute_result"
    }
   ],
   "source": [
    "tt / tt[s.alcohol]"
   ]
  },
  {
   "cell_type": "code",
   "execution_count": 35,
   "metadata": {
    "ExecuteTime": {
     "end_time": "2020-05-12T19:11:09.511827Z",
     "start_time": "2020-05-12T19:11:09.476837Z"
    }
   },
   "outputs": [
    {
     "data": {
      "text/plain": [
       "                     pval\n",
       "ALCOHOL TOBACCO          \n",
       "0       0        0.572792\n",
       "1       0        0.427208\n",
       "0       1        0.402048\n",
       "1       1        0.597952"
      ]
     },
     "execution_count": 35,
     "metadata": {},
     "output_type": "execute_result"
    }
   ],
   "source": [
    "tt / tt[s.tobacco]"
   ]
  },
  {
   "cell_type": "code",
   "execution_count": null,
   "metadata": {},
   "outputs": [],
   "source": []
  },
  {
   "cell_type": "markdown",
   "metadata": {},
   "source": [
    "## Scrap place"
   ]
  },
  {
   "cell_type": "code",
   "execution_count": 50,
   "metadata": {
    "ExecuteTime": {
     "end_time": "2020-05-13T22:05:16.378818Z",
     "start_time": "2020-05-13T22:05:15.558493Z"
    }
   },
   "outputs": [
    {
     "data": {
      "text/plain": [
       "                                        pval\n",
       "AS PRESCRIBED OPIOID-1 HEROIN-1 HEROIN      \n",
       "0                      0        0        927\n",
       "                                1        172\n",
       "                       1        0         99\n",
       "                                1        936\n",
       "1                      0        0        249\n",
       "                                1         33\n",
       "                       1        0         15\n",
       "                                1        115"
      ]
     },
     "execution_count": 50,
     "metadata": {},
     "output_type": "execute_result"
    }
   ],
   "source": [
    "t = pstore[s.as_prescribed_opioid-1, s.heroin-1, s.heroin]\n",
    "t\n"
   ]
  },
  {
   "cell_type": "code",
   "execution_count": 51,
   "metadata": {
    "ExecuteTime": {
     "end_time": "2020-05-13T22:05:34.133867Z",
     "start_time": "2020-05-13T22:05:34.049868Z"
    }
   },
   "outputs": [
    {
     "data": {
      "text/plain": [
       "                                            pval\n",
       "AS PRESCRIBED OPIOID-1 HEROIN-1 HEROIN          \n",
       "0                      0        0       0.843494\n",
       "                                1       0.156506\n",
       "                       1        0       0.095652\n",
       "                                1       0.904348\n",
       "1                      0        0       0.882979\n",
       "                                1       0.117021\n",
       "                       1        0       0.115385\n",
       "                                1       0.884615"
      ]
     },
     "execution_count": 51,
     "metadata": {},
     "output_type": "execute_result"
    }
   ],
   "source": [
    "tt = t / t[s.as_prescribed_opioid-1, s.heroin-1]  # cond prob!\n",
    "tt"
   ]
  },
  {
   "cell_type": "code",
   "execution_count": 55,
   "metadata": {
    "ExecuteTime": {
     "end_time": "2020-05-13T22:08:37.378712Z",
     "start_time": "2020-05-13T22:08:37.349751Z"
    }
   },
   "outputs": [
    {
     "data": {
      "text/html": [
       "<div>\n",
       "<style scoped>\n",
       "    .dataframe tbody tr th:only-of-type {\n",
       "        vertical-align: middle;\n",
       "    }\n",
       "\n",
       "    .dataframe tbody tr th {\n",
       "        vertical-align: top;\n",
       "    }\n",
       "\n",
       "    .dataframe thead th {\n",
       "        text-align: right;\n",
       "    }\n",
       "</style>\n",
       "<table border=\"1\" class=\"dataframe\">\n",
       "  <thead>\n",
       "    <tr style=\"text-align: right;\">\n",
       "      <th></th>\n",
       "      <th>AS PRESCRIBED OPIOID-1</th>\n",
       "      <th>HEROIN-1</th>\n",
       "      <th>HEROIN</th>\n",
       "      <th>pval</th>\n",
       "    </tr>\n",
       "  </thead>\n",
       "  <tbody>\n",
       "    <tr>\n",
       "      <th></th>\n",
       "      <td>0</td>\n",
       "      <td>0</td>\n",
       "      <td>0</td>\n",
       "      <td>0.843494</td>\n",
       "    </tr>\n",
       "    <tr>\n",
       "      <th></th>\n",
       "      <td>0</td>\n",
       "      <td>0</td>\n",
       "      <td>1</td>\n",
       "      <td>0.156506</td>\n",
       "    </tr>\n",
       "    <tr>\n",
       "      <th></th>\n",
       "      <td>0</td>\n",
       "      <td>1</td>\n",
       "      <td>0</td>\n",
       "      <td>0.095652</td>\n",
       "    </tr>\n",
       "    <tr>\n",
       "      <th></th>\n",
       "      <td>0</td>\n",
       "      <td>1</td>\n",
       "      <td>1</td>\n",
       "      <td>0.904348</td>\n",
       "    </tr>\n",
       "    <tr>\n",
       "      <th></th>\n",
       "      <td>1</td>\n",
       "      <td>0</td>\n",
       "      <td>0</td>\n",
       "      <td>0.882979</td>\n",
       "    </tr>\n",
       "    <tr>\n",
       "      <th></th>\n",
       "      <td>1</td>\n",
       "      <td>0</td>\n",
       "      <td>1</td>\n",
       "      <td>0.117021</td>\n",
       "    </tr>\n",
       "    <tr>\n",
       "      <th></th>\n",
       "      <td>1</td>\n",
       "      <td>1</td>\n",
       "      <td>0</td>\n",
       "      <td>0.115385</td>\n",
       "    </tr>\n",
       "    <tr>\n",
       "      <th></th>\n",
       "      <td>1</td>\n",
       "      <td>1</td>\n",
       "      <td>1</td>\n",
       "      <td>0.884615</td>\n",
       "    </tr>\n",
       "  </tbody>\n",
       "</table>\n",
       "</div>"
      ],
      "text/plain": [
       "  AS PRESCRIBED OPIOID-1  HEROIN-1  HEROIN      pval\n",
       "                       0         0       0  0.843494\n",
       "                       0         0       1  0.156506\n",
       "                       0         1       0  0.095652\n",
       "                       0         1       1  0.904348\n",
       "                       1         0       0  0.882979\n",
       "                       1         0       1  0.117021\n",
       "                       1         1       0  0.115385\n",
       "                       1         1       1  0.884615"
      ]
     },
     "execution_count": 55,
     "metadata": {},
     "output_type": "execute_result"
    }
   ],
   "source": [
    "tt.tb"
   ]
  },
  {
   "cell_type": "markdown",
   "metadata": {
    "ExecuteTime": {
     "end_time": "2020-05-13T22:06:13.331372Z",
     "start_time": "2020-05-13T22:06:13.296953Z"
    }
   },
   "source": [
    "```\n",
    "AS PRESCRIBED OPIOID-1\tHEROIN-1\tHEROIN\t\n",
    "0\t0\t0\t0.843494\n",
    "0\t0\t1\t0.156506\n",
    "1\t0\t0\t0.882979\n",
    "1\t0\t1\t0.117021\n",
    "```"
   ]
  },
  {
   "cell_type": "code",
   "execution_count": 56,
   "metadata": {
    "ExecuteTime": {
     "end_time": "2020-05-13T22:10:59.297048Z",
     "start_time": "2020-05-13T22:10:59.266012Z"
    }
   },
   "outputs": [
    {
     "data": {
      "text/plain": [
       "0.7477093529960512"
      ]
     },
     "execution_count": 56,
     "metadata": {},
     "output_type": "execute_result"
    }
   ],
   "source": [
    "0.117021 / 0.156506"
   ]
  },
  {
   "cell_type": "code",
   "execution_count": null,
   "metadata": {},
   "outputs": [],
   "source": []
  },
  {
   "cell_type": "code",
   "execution_count": 48,
   "metadata": {
    "ExecuteTime": {
     "end_time": "2020-05-13T21:55:21.324468Z",
     "start_time": "2020-05-13T21:55:21.298053Z"
    }
   },
   "outputs": [
    {
     "data": {
      "text/plain": [
       "0.6918605658949217"
      ]
     },
     "execution_count": 48,
     "metadata": {},
     "output_type": "execute_result"
    }
   ],
   "source": [
    "prob_of_heroin_given_presc_op = 0.359223\n",
    "prob_of_heroin_given_not_presc_op = 0.519213\n",
    "\n",
    "prob_of_heroin_given_presc_op / prob_of_heroin_given_not_presc_op"
   ]
  },
  {
   "cell_type": "code",
   "execution_count": 49,
   "metadata": {
    "ExecuteTime": {
     "end_time": "2020-05-13T22:01:46.031472Z",
     "start_time": "2020-05-13T22:01:45.988353Z"
    }
   },
   "outputs": [
    {
     "data": {
      "text/plain": [
       "1.4453779407220584"
      ]
     },
     "execution_count": 49,
     "metadata": {},
     "output_type": "execute_result"
    }
   ],
   "source": [
    "prob_of_heroin_given_not_presc_op / prob_of_heroin_given_presc_op"
   ]
  },
  {
   "cell_type": "markdown",
   "metadata": {},
   "source": [
    "# Potential Calculus Experimentations"
   ]
  },
  {
   "cell_type": "code",
   "execution_count": 36,
   "metadata": {
    "ExecuteTime": {
     "end_time": "2020-05-12T19:11:15.272513Z",
     "start_time": "2020-05-12T19:11:15.246605Z"
    }
   },
   "outputs": [
    {
     "data": {
      "text/plain": [
       "119"
      ]
     },
     "execution_count": 36,
     "metadata": {},
     "output_type": "execute_result"
    }
   ],
   "source": [
    "# survey_dir = '/D/Dropbox/others/Miriam/python/ProcessedSurveys'\n",
    "df_store = DfStore(survey_dir + '/{}.xlsx')\n",
    "len(df_store)"
   ]
  },
  {
   "cell_type": "code",
   "execution_count": 37,
   "metadata": {
    "ExecuteTime": {
     "end_time": "2020-05-12T19:11:17.714497Z",
     "start_time": "2020-05-12T19:11:15.779575Z"
    }
   },
   "outputs": [
    {
     "data": {
      "text/html": [
       "<div>\n",
       "<style scoped>\n",
       "    .dataframe tbody tr th:only-of-type {\n",
       "        vertical-align: middle;\n",
       "    }\n",
       "\n",
       "    .dataframe tbody tr th {\n",
       "        vertical-align: top;\n",
       "    }\n",
       "\n",
       "    .dataframe thead th {\n",
       "        text-align: right;\n",
       "    }\n",
       "</style>\n",
       "<table border=\"1\" class=\"dataframe\">\n",
       "  <thead>\n",
       "    <tr style=\"text-align: right;\">\n",
       "      <th>category</th>\n",
       "      <th>RURAL</th>\n",
       "      <th>SUBURBAN</th>\n",
       "      <th>URBAN/CITY</th>\n",
       "      <th>HOMELESS</th>\n",
       "      <th>INCARCERATION</th>\n",
       "      <th>WORK</th>\n",
       "      <th>SON/DAUGHTER</th>\n",
       "      <th>SIBLING</th>\n",
       "      <th>FATHER/MOTHER</th>\n",
       "      <th>SPOUSE</th>\n",
       "      <th>...</th>\n",
       "      <th>HAL/LSD/XTC/CLUBDRUG</th>\n",
       "      <th>COCAINE/CRACK</th>\n",
       "      <th>METHAMPHETAMINE</th>\n",
       "      <th>AS PRESCRIBED OPIOID</th>\n",
       "      <th>NOT AS PRESCRIBED OPIOID</th>\n",
       "      <th>HEROIN</th>\n",
       "      <th>OTHER OPIOID</th>\n",
       "      <th>INJECTED</th>\n",
       "      <th>IN TREATMENT</th>\n",
       "      <th>Massachusetts</th>\n",
       "    </tr>\n",
       "    <tr>\n",
       "      <th>age</th>\n",
       "      <th></th>\n",
       "      <th></th>\n",
       "      <th></th>\n",
       "      <th></th>\n",
       "      <th></th>\n",
       "      <th></th>\n",
       "      <th></th>\n",
       "      <th></th>\n",
       "      <th></th>\n",
       "      <th></th>\n",
       "      <th></th>\n",
       "      <th></th>\n",
       "      <th></th>\n",
       "      <th></th>\n",
       "      <th></th>\n",
       "      <th></th>\n",
       "      <th></th>\n",
       "      <th></th>\n",
       "      <th></th>\n",
       "      <th></th>\n",
       "      <th></th>\n",
       "    </tr>\n",
       "  </thead>\n",
       "  <tbody>\n",
       "    <tr>\n",
       "      <th>16</th>\n",
       "      <td>0</td>\n",
       "      <td>1</td>\n",
       "      <td>0</td>\n",
       "      <td>0</td>\n",
       "      <td>1</td>\n",
       "      <td>0</td>\n",
       "      <td>1</td>\n",
       "      <td>1</td>\n",
       "      <td>1</td>\n",
       "      <td>0</td>\n",
       "      <td>...</td>\n",
       "      <td>0</td>\n",
       "      <td>0</td>\n",
       "      <td>0</td>\n",
       "      <td>0</td>\n",
       "      <td>0</td>\n",
       "      <td>0</td>\n",
       "      <td>0</td>\n",
       "      <td>0</td>\n",
       "      <td>0</td>\n",
       "      <td>1</td>\n",
       "    </tr>\n",
       "    <tr>\n",
       "      <th>17</th>\n",
       "      <td>0</td>\n",
       "      <td>1</td>\n",
       "      <td>0</td>\n",
       "      <td>0</td>\n",
       "      <td>0</td>\n",
       "      <td>1</td>\n",
       "      <td>1</td>\n",
       "      <td>1</td>\n",
       "      <td>1</td>\n",
       "      <td>0</td>\n",
       "      <td>...</td>\n",
       "      <td>0</td>\n",
       "      <td>0</td>\n",
       "      <td>0</td>\n",
       "      <td>0</td>\n",
       "      <td>1</td>\n",
       "      <td>0</td>\n",
       "      <td>0</td>\n",
       "      <td>0</td>\n",
       "      <td>0</td>\n",
       "      <td>1</td>\n",
       "    </tr>\n",
       "    <tr>\n",
       "      <th>18</th>\n",
       "      <td>0</td>\n",
       "      <td>1</td>\n",
       "      <td>0</td>\n",
       "      <td>0</td>\n",
       "      <td>0</td>\n",
       "      <td>1</td>\n",
       "      <td>1</td>\n",
       "      <td>1</td>\n",
       "      <td>1</td>\n",
       "      <td>0</td>\n",
       "      <td>...</td>\n",
       "      <td>0</td>\n",
       "      <td>0</td>\n",
       "      <td>0</td>\n",
       "      <td>0</td>\n",
       "      <td>1</td>\n",
       "      <td>0</td>\n",
       "      <td>0</td>\n",
       "      <td>0</td>\n",
       "      <td>0</td>\n",
       "      <td>1</td>\n",
       "    </tr>\n",
       "  </tbody>\n",
       "</table>\n",
       "<p>3 rows × 29 columns</p>\n",
       "</div>"
      ],
      "text/plain": [
       "category  RURAL  SUBURBAN  URBAN/CITY  HOMELESS  INCARCERATION  WORK  \\\n",
       "age                                                                    \n",
       "16            0         1           0         0              1     0   \n",
       "17            0         1           0         0              0     1   \n",
       "18            0         1           0         0              0     1   \n",
       "\n",
       "category  SON/DAUGHTER  SIBLING  FATHER/MOTHER  SPOUSE  ...  \\\n",
       "age                                                     ...   \n",
       "16                   1        1              1       0  ...   \n",
       "17                   1        1              1       0  ...   \n",
       "18                   1        1              1       0  ...   \n",
       "\n",
       "category  HAL/LSD/XTC/CLUBDRUG  COCAINE/CRACK  METHAMPHETAMINE  \\\n",
       "age                                                              \n",
       "16                           0              0                0   \n",
       "17                           0              0                0   \n",
       "18                           0              0                0   \n",
       "\n",
       "category  AS PRESCRIBED OPIOID  NOT AS PRESCRIBED OPIOID  HEROIN  \\\n",
       "age                                                                \n",
       "16                           0                         0       0   \n",
       "17                           0                         1       0   \n",
       "18                           0                         1       0   \n",
       "\n",
       "category  OTHER OPIOID  INJECTED  IN TREATMENT  Massachusetts  \n",
       "age                                                            \n",
       "16                   0         0             0              1  \n",
       "17                   0         0             0              1  \n",
       "18                   0         0             0              1  \n",
       "\n",
       "[3 rows x 29 columns]"
      ]
     },
     "execution_count": 37,
     "metadata": {},
     "output_type": "execute_result"
    }
   ],
   "source": [
    "cstore = VarSetCountsStore(df_store)\n",
    "v = mk_pvar_struct(df_store, only_for_cols_in_all_dfs=True)\n",
    "s = mk_pvar_str_struct(v)\n",
    "f, df = cstore.df_store.head()\n",
    "df.head(3)"
   ]
  },
  {
   "cell_type": "code",
   "execution_count": 38,
   "metadata": {
    "ExecuteTime": {
     "end_time": "2020-05-12T19:11:18.401254Z",
     "start_time": "2020-05-12T19:11:18.374221Z"
    }
   },
   "outputs": [],
   "source": [
    "cstore = VarSetCountsStore(df_store)\n",
    "cstore.mk_pvar_attrs()"
   ]
  },
  {
   "cell_type": "code",
   "execution_count": 39,
   "metadata": {
    "ExecuteTime": {
     "end_time": "2020-05-12T19:11:19.337381Z",
     "start_time": "2020-05-12T19:11:19.084425Z"
    }
   },
   "outputs": [
    {
     "data": {
      "text/plain": [
       "                          pval\n",
       "HOMELESS-1 INCARCERATION      \n",
       "0          0              1690\n",
       "           1               577\n",
       "1          0               192\n",
       "           1                87"
      ]
     },
     "execution_count": 39,
     "metadata": {},
     "output_type": "execute_result"
    }
   ],
   "source": [
    "from odus.dacc import DfStore, counts_of_kps, Dacc, plot_life_course, VarSetCountsStore, mk_pvar_struct, PotStore\n",
    "pstore = PotStore(df_store)\n",
    "pstore.mk_pvar_attrs()\n",
    "p = pstore[v.homeless - 1, v.incarceration]\n",
    "p"
   ]
  },
  {
   "cell_type": "code",
   "execution_count": 40,
   "metadata": {
    "ExecuteTime": {
     "end_time": "2020-05-12T19:11:19.966748Z",
     "start_time": "2020-05-12T19:11:19.931322Z"
    }
   },
   "outputs": [
    {
     "data": {
      "text/plain": [
       "                              pval\n",
       "HOMELESS-1 INCARCERATION          \n",
       "0          0              0.663786\n",
       "           1              0.226630\n",
       "1          0              0.075412\n",
       "           1              0.034171"
      ]
     },
     "execution_count": 40,
     "metadata": {},
     "output_type": "execute_result"
    }
   ],
   "source": [
    "p / []"
   ]
  },
  {
   "cell_type": "code",
   "execution_count": 41,
   "metadata": {
    "ExecuteTime": {
     "end_time": "2020-05-12T19:11:22.081731Z",
     "start_time": "2020-05-12T19:11:21.929126Z"
    }
   },
   "outputs": [
    {
     "data": {
      "text/plain": [
       "               pval\n",
       "INCARCERATION      \n",
       "0              1989\n",
       "1               676"
      ]
     },
     "execution_count": 41,
     "metadata": {},
     "output_type": "execute_result"
    }
   ],
   "source": [
    "pstore[v.incarceration]"
   ]
  },
  {
   "cell_type": "code",
   "execution_count": 42,
   "metadata": {
    "ExecuteTime": {
     "end_time": "2020-05-12T19:11:22.785301Z",
     "start_time": "2020-05-12T19:11:22.536114Z"
    }
   },
   "outputs": [
    {
     "data": {
      "text/plain": [
       "                             pval\n",
       "ALCOHOL-1 LOSS OF LOVED ONE      \n",
       "0         0                   990\n",
       "          1                    91\n",
       "1         0                  1321\n",
       "          1                   144"
      ]
     },
     "execution_count": 42,
     "metadata": {},
     "output_type": "execute_result"
    }
   ],
   "source": [
    "pstore[v.alcohol-1, v.loss_of_loved_one]"
   ]
  },
  {
   "cell_type": "code",
   "execution_count": 43,
   "metadata": {
    "ExecuteTime": {
     "end_time": "2020-05-12T19:11:24.013792Z",
     "start_time": "2020-05-12T19:11:23.236205Z"
    }
   },
   "outputs": [],
   "source": [
    "tw = pstore[v.tobacco, v.work]\n",
    "mw = pstore[v.marijuana, v.work]\n",
    "aw = pstore[v.alcohol, v.work]\n",
    "w = pstore[v.work]\n"
   ]
  },
  {
   "cell_type": "code",
   "execution_count": 44,
   "metadata": {
    "ExecuteTime": {
     "end_time": "2020-05-12T19:11:24.635618Z",
     "start_time": "2020-05-12T19:11:24.592328Z"
    }
   },
   "outputs": [
    {
     "data": {
      "text/plain": [
       "         pval\n",
       "ALCOHOL      \n",
       "1           1"
      ]
     },
     "execution_count": 44,
     "metadata": {},
     "output_type": "execute_result"
    }
   ],
   "source": [
    "evid_t = Pot.from_hard_evidence(**{s.tobacco: 1})\n",
    "evid_m = Pot.from_hard_evidence(**{s.marijuana: 1})\n",
    "evid_a = Pot.from_hard_evidence(**{s.alcohol: 1})\n",
    "evid_a"
   ]
  },
  {
   "cell_type": "code",
   "execution_count": 45,
   "metadata": {
    "ExecuteTime": {
     "end_time": "2020-05-12T19:11:25.167849Z",
     "start_time": "2020-05-12T19:11:25.142030Z"
    }
   },
   "outputs": [
    {
     "data": {
      "text/plain": [
       "              pval\n",
       "ALCOHOL WORK      \n",
       "0       0      431\n",
       "        1      712\n",
       "1       0      448\n",
       "        1     1074"
      ]
     },
     "execution_count": 45,
     "metadata": {},
     "output_type": "execute_result"
    }
   ],
   "source": [
    "aw"
   ]
  },
  {
   "cell_type": "code",
   "execution_count": 46,
   "metadata": {
    "ExecuteTime": {
     "end_time": "2020-05-12T19:11:26.754882Z",
     "start_time": "2020-05-12T19:11:26.722131Z"
    }
   },
   "outputs": [
    {
     "data": {
      "text/plain": [
       "          pval\n",
       "WORK          \n",
       "0     0.329831\n",
       "1     0.670169"
      ]
     },
     "execution_count": 46,
     "metadata": {},
     "output_type": "execute_result"
    }
   ],
   "source": [
    "w / []"
   ]
  },
  {
   "cell_type": "code",
   "execution_count": 47,
   "metadata": {
    "ExecuteTime": {
     "end_time": "2020-05-12T19:11:27.241357Z",
     "start_time": "2020-05-12T19:11:27.201373Z"
    }
   },
   "outputs": [
    {
     "data": {
      "text/plain": [
       "                    pval\n",
       "MARIJUANA WORK          \n",
       "1         0     0.350603\n",
       "          1     0.649397"
      ]
     },
     "execution_count": 47,
     "metadata": {},
     "output_type": "execute_result"
    }
   ],
   "source": [
    "(evid_m * mw) / []"
   ]
  },
  {
   "cell_type": "code",
   "execution_count": 48,
   "metadata": {
    "ExecuteTime": {
     "end_time": "2020-05-12T19:11:27.721564Z",
     "start_time": "2020-05-12T19:11:27.681399Z"
    }
   },
   "outputs": [
    {
     "data": {
      "text/plain": [
       "                  pval\n",
       "TOBACCO WORK          \n",
       "1       0     0.313001\n",
       "        1     0.686999"
      ]
     },
     "execution_count": 48,
     "metadata": {},
     "output_type": "execute_result"
    }
   ],
   "source": [
    "(evid_t * tw) / []"
   ]
  },
  {
   "cell_type": "code",
   "execution_count": 49,
   "metadata": {
    "ExecuteTime": {
     "end_time": "2020-05-12T19:11:28.242635Z",
     "start_time": "2020-05-12T19:11:28.206034Z"
    }
   },
   "outputs": [
    {
     "data": {
      "text/plain": [
       "                 pval\n",
       "ALCOHOL WORK         \n",
       "1       0     0.29435\n",
       "        1     0.70565"
      ]
     },
     "execution_count": 49,
     "metadata": {},
     "output_type": "execute_result"
    }
   ],
   "source": [
    "(evid_a * aw) / []"
   ]
  },
  {
   "cell_type": "markdown",
   "metadata": {},
   "source": [
    "# Extra scrap"
   ]
  },
  {
   "cell_type": "code",
   "execution_count": 22,
   "metadata": {
    "ExecuteTime": {
     "end_time": "2020-07-24T14:26:55.115717Z",
     "start_time": "2020-07-24T14:26:55.088280Z"
    }
   },
   "outputs": [],
   "source": [
    "# from graphviz import Digraph\n",
    "# Digraph(body=\"\"\"\n",
    "# raw -> data -> count -> prob\n",
    "# raw [label=\"excel files (one per respondent)\" shape=folder]\n",
    "# data [label=\"dataframes\" shape=folder]\n",
    "# count [label=\"counts for any combinations of the variables in the data\" shape=box3d]\n",
    "# prob [label=\"probabilities for any combinations of the variables in the data\" shape=box3d]\n",
    "# \"\"\".split('\\n'))"
   ]
  },
  {
   "cell_type": "code",
   "execution_count": null,
   "metadata": {},
   "outputs": [],
   "source": []
  }
 ],
 "metadata": {
  "kernelspec": {
   "display_name": "Python 3",
   "language": "python",
   "name": "python3"
  },
  "language_info": {
   "codemirror_mode": {
    "name": "ipython",
    "version": 3
   },
   "file_extension": ".py",
   "mimetype": "text/x-python",
   "name": "python",
   "nbconvert_exporter": "python",
   "pygments_lexer": "ipython3",
   "version": "3.8.2"
  },
  "latex_envs": {
   "LaTeX_envs_menu_present": true,
   "autoclose": false,
   "autocomplete": true,
   "bibliofile": "biblio.bib",
   "cite_by": "apalike",
   "current_citInitial": 1,
   "eqLabelWithNumbers": true,
   "eqNumInitial": 0,
   "hotkeys": {
    "equation": "Ctrl-E",
    "itemize": "Ctrl-I"
   },
   "labels_anchors": false,
   "latex_user_defs": false,
   "report_style_numbering": false,
   "user_envs_cfg": false
  },
  "toc": {
   "base_numbering": 1,
   "nav_menu": {
    "height": "12px",
    "width": "252px"
   },
   "number_sections": true,
   "sideBar": true,
   "skip_h1_title": false,
   "title_cell": "Table of Contents",
   "title_sidebar": "Contents",
   "toc_cell": true,
   "toc_position": {},
   "toc_section_display": "block",
   "toc_window_display": false
  }
 },
 "nbformat": 4,
 "nbformat_minor": 2
}
